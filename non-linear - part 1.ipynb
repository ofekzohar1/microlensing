{
 "cells": [
  {
   "cell_type": "code",
   "execution_count": null,
   "id": "a64e5d91",
   "metadata": {},
   "outputs": [],
   "source": [
    "import numpy as np\n",
    "from typing import List\n",
    "import random\n"
   ]
  },
  {
   "cell_type": "code",
   "execution_count": null,
   "id": "d1e52719",
   "metadata": {},
   "outputs": [],
   "source": [
    "# yuval points means that points have error values\n",
    "class YPoint:\n",
    "    def __init__(self, x,y,err) -> None:\n",
    "        self.x = x\n",
    "        self.y = y \n",
    "        self.err = err\n",
    "\n",
    "\n",
    "class Param:\n",
    "    def __init__(self, min, max, n= 31) -> None: #n should be odd\n",
    "        self.min = min\n",
    "        self.max = max\n",
    "        self.n = n\n",
    "    \n",
    "    def range(self):\n",
    "        return np.linspace(self.min,self.max,num=self.n)\n",
    "    \n",
    "    def get_new_range(self, value):\n",
    "        width = (self.max-self.min) / (self.n-1)\n",
    "        #print (self, \" | \" ,value, \" | \",  Param(max(value - width, self.min), min(value+width, self.max)))\n",
    "        return Param(max(value - width, self.min), min(value+width, self.max))\n",
    "        #return Param(value - width, value+width)\n",
    "    \n",
    "    def __str__(self):\n",
    "        return f\"min: {self.min}, max: {self.max}\"\n",
    "\n",
    "\n"
   ]
  },
  {
   "cell_type": "code",
   "execution_count": null,
   "id": "d7e07c84",
   "metadata": {},
   "outputs": [],
   "source": [
    "def do_func(params, x):\n",
    "    return params[0] +params[1]*x \n",
    "\n",
    "def find_chi(params: List[float], ypoints: List[YPoint]) -> int:\n",
    "    return sum([((do_func(params, ypoint.x) - ypoint.y)/(ypoint.err))**2 for ypoint in ypoints])\n",
    "\n",
    "def min_chi_on_params(ypoints: List[YPoint], params: List[Param]):\n",
    "    n_params = []\n",
    "    min_chi = float('inf')\n",
    "    min_param_comb= []\n",
    "    params_combinations = np.array(np.meshgrid(*list(map(lambda param: param.range(), params)))).T.reshape(-1,len(params))\n",
    "    for params_combination in params_combinations:\n",
    "        res = find_chi(params_combination, ypoints)\n",
    "        if res < min_chi:\n",
    "            min_chi = res\n",
    "            min_param_comb=params_combination\n",
    "            n_params =[]\n",
    "            for i in range(len(params_combination)):\n",
    "                n_params.append(params[i].get_new_range(params_combination[i]))\n",
    "    return n_params, min_chi , min_param_comb\n",
    "\n",
    "def find_chi_repete_params(ypoints: List[YPoint], params: List[Param], res_chi = 0.00000001):\n",
    "    min_chi = float('inf')\n",
    "    counter = 0\n",
    "    n_params, n_min_chi, min_param_comb = min_chi_on_params(ypoints, params)\n",
    "    thepupik = \" \".join(str(s) for s in n_params)\n",
    "    print(f\"{counter} \\n old chi: {min_chi} | new chi: {n_min_chi} | min_comb: {min_param_comb}\\n param: {thepupik} \\n\")\n",
    "\n",
    "    while (min_chi - n_min_chi) > res_chi:\n",
    "\n",
    "        min_chi = n_min_chi\n",
    "        counter +=1\n",
    "\n",
    "        n_params, n_min_chi, min_param_comb = min_chi_on_params(ypoints, n_params)\n",
    "        thepupik = \" \".join(str(s) for s in n_params)\n",
    "        print(f\"{counter} \\n old chi: {min_chi} | new chi: {n_min_chi} | min_comb: {min_param_comb}\\n param: {thepupik} \\n\")\n",
    "    return n_min_chi, min_param_comb\n",
    "\n"
   ]
  },
  {
   "cell_type": "code",
   "execution_count": null,
   "id": "a2c77d4c",
   "metadata": {},
   "outputs": [],
   "source": [
    "# inputs \n",
    "ypoints = [\n",
    "    YPoint(1,3,0.1),\n",
    "    YPoint(2,5,0.1),\n",
    "    YPoint(3,7,0.1),\n",
    "    YPoint(4,9,0.1),\n",
    "    YPoint(5,11,0.1),\n",
    "    YPoint(6,13,0.1),\n",
    "    YPoint(7,15,0.1),\n",
    "    YPoint(8,17,0.1),\n",
    "    YPoint(9,19,0.1),\n",
    "    YPoint(4,9,0.1),\n",
    "    YPoint(5,11,0.1),\n",
    "    YPoint(6,13,0.1),\n",
    "    YPoint(7,15,0.1),\n",
    "    YPoint(8,17,0.1),\n",
    "    YPoint(9,19,0.1),\n",
    "    YPoint(10,21,0.1),\n",
    "    YPoint(11,23,0.1),\n",
    "    YPoint(12,25,0.1),\n",
    "    YPoint(13,27,0.1),\n",
    "    YPoint(14,29,0.1),\n",
    "    YPoint(15,31,0.1)\n",
    "]\n",
    "params: List[Param] = [Param(-20,11), Param(-5,9)]\n"
   ]
  },
  {
   "cell_type": "code",
   "execution_count": null,
   "id": "779cf0c4",
   "metadata": {},
   "outputs": [],
   "source": [
    "N=10\n",
    "chi_list=[]\n",
    "a_s_list=[]\n",
    "for i in range(N):\n",
    "    random_ypoints=random.choices(ypoints,k=len(ypoints))\n",
    "    chi, a_s = find_chi_repete_params(random_ypoints, params)\n",
    "    chi_list.append(chi)\n",
    "    a_s_list.append(a_s)"
   ]
  },
  {
   "cell_type": "code",
   "execution_count": null,
   "id": "c56c89fd",
   "metadata": {},
   "outputs": [],
   "source": [
    "chi_list"
   ]
  },
  {
   "cell_type": "code",
   "execution_count": null,
   "id": "7571a4ea",
   "metadata": {},
   "outputs": [],
   "source": [
    "a_s_list"
   ]
  },
  {
   "cell_type": "code",
   "execution_count": null,
   "id": "56b5243f",
   "metadata": {},
   "outputs": [],
   "source": []
  }
 ],
 "metadata": {
  "kernelspec": {
   "display_name": "Python 3 (ipykernel)",
   "language": "python",
   "name": "python3"
  },
  "language_info": {
   "codemirror_mode": {
    "name": "ipython",
    "version": 3
   },
   "file_extension": ".py",
   "mimetype": "text/x-python",
   "name": "python",
   "nbconvert_exporter": "python",
   "pygments_lexer": "ipython3",
   "version": "3.9.6"
  }
 },
 "nbformat": 4,
 "nbformat_minor": 5
}
