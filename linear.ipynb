{
  "cells": [
    {
      "cell_type": "code",
      "execution_count": null,
      "metadata": {
        "id": "83YaPopY1KsD"
      },
      "outputs": [],
      "source": [
        "from microlensing import microlensing\n",
        "import ms_helper as msh\n",
        "import numpy as np\n"
      ]
    },
    {
      "cell_type": "code",
      "execution_count": null,
      "metadata": {},
      "outputs": [],
      "source": [
        "good_index = []\n",
        "for i in range(35, 36):\n",
        "    try:\n",
        "        ms_event = microlensing(f\"https://www.astrouw.edu.pl/ogle/ogle4/ews/2019/blg-{i:04}\")\n",
        "        if ms_event.ogle[\"fbl\"].value == 1.0:\n",
        "            mid_range=ms_event.ogle[\"t0\"].value\n",
        "            range_len=ms_event.ogle[\"tau\"].value/2\n",
        "            min_range, max_range = mid_range-range_len, mid_range+range_len\n",
        "            data_cut = ms_event.data[(ms_event.data[\"JHD\"]<=max_range) & (ms_event.data[\"JHD\"]>=min_range)]\n",
        "            a, _, _, chi = msh.independent_meas_linear_fit(n_param=3, x=data_cut[\"JHD\"]-min_range, y=data_cut[\"I\"], y_error=data_cut[\"I_error\"])\n",
        "            if 0.5 <= chi <= 2 and a[2] < 0 and len(data_cut) > 100:\n",
        "                tup = (i, chi, mid_range, range_len, len(data_cut))\n",
        "                good_index.append(tup)\n",
        "    except:\n",
        "        continue\n",
        "\n",
        "good_index"
      ]
    },
    {
      "cell_type": "code",
      "execution_count": null,
      "metadata": {},
      "outputs": [],
      "source": [
        "ms_event = microlensing(\"https://www.astrouw.edu.pl/ogle/ogle4/ews/2019/blg-0035\")"
      ]
    },
    {
      "cell_type": "code",
      "execution_count": null,
      "metadata": {},
      "outputs": [],
      "source": [
        "mid_range=ms_event.data[\"JHD\"][np.argmax(ms_event.data[\"I\"])]\n",
        "range_len=30\n",
        "ms_event.parabolic_fit(mid_range, range_len)"
      ]
    },
    {
      "cell_type": "code",
      "execution_count": null,
      "metadata": {},
      "outputs": [],
      "source": [
        "ms_event.bootstrap(mid_range, range_len, iter=10000)"
      ]
    }
  ],
  "metadata": {
    "colab": {
      "provenance": []
    },
    "kernelspec": {
      "display_name": "Python 3",
      "name": "python3"
    },
    "language_info": {
      "codemirror_mode": {
        "name": "ipython",
        "version": 3
      },
      "file_extension": ".py",
      "mimetype": "text/x-python",
      "name": "python",
      "nbconvert_exporter": "python",
      "pygments_lexer": "ipython3",
      "version": "3.9.6"
    }
  },
  "nbformat": 4,
  "nbformat_minor": 0
}
